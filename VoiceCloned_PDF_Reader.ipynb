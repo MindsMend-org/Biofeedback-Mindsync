{
  "nbformat": 4,
  "nbformat_minor": 0,
  "metadata": {
    "colab": {
      "provenance": [],
      "include_colab_link": true
    },
    "kernelspec": {
      "name": "python3",
      "display_name": "Python 3"
    },
    "language_info": {
      "name": "python"
    },
    "accelerator": "GPU",
    "gpuClass": "standard"
  },
  "cells": [
    {
      "cell_type": "markdown",
      "metadata": {
        "id": "view-in-github",
        "colab_type": "text"
      },
      "source": [
        "<a href=\"https://colab.research.google.com/github/MindsMend-org/Biofeedback-Mindsync/blob/main/VoiceCloned_PDF_Reader.ipynb\" target=\"_parent\"><img src=\"https://colab.research.google.com/assets/colab-badge.svg\" alt=\"Open In Colab\"/></a>"
      ]
    },
    {
      "cell_type": "code",
      "metadata": {
        "id": "V0xH8XNEelKI"
      },
      "source": [
        "#@title Voice Cloning Setup { display-mode: \"code\" }\n",
        "# Cloning the repository\n",
        "!git clone https://github.com/misbah4064/Real-Time-Voice-Cloning-1.git\n",
        "%cd Real-Time-Voice-Cloning-1/\n",
        "# Installing the dependencies\n",
        "!pip install -q -r requirements.txt\n",
        "!apt-get install -qq libportaudio2\n",
        "!pip install pyttsx3\n",
        "!pip install PyPDF2\n",
        "!pip install soundfile\n",
        "# Downloading pretrained data and unzipping it\n",
        "!gdown https://drive.google.com/uc?id=1z_QgssuHaeyqv60H7tKkFavS7nzQosIl\n",
        "!unzip pretrained_models.zip\n",
        "# Initializing all the encoder libraries\n",
        "from IPython.display import Audio\n",
        "from IPython.utils import io\n",
        "from synthesizer.inference import Synthesizer\n",
        "from encoder import inference as encoder\n",
        "from vocoder import inference as vocoder\n",
        "from pathlib import Path\n",
        "import numpy as np\n",
        "import librosa\n",
        "import PyPDF2\n",
        "import pyttsx3\n",
        "from google.colab import files\n",
        "encoder_weights = Path(\"pretrained_models/encoder/saved_models/pretrained.pt\")\n",
        "vocoder_weights = Path(\"pretrained_models/vocoder/saved_models/pretrained/pretrained.pt\")\n",
        "syn_dir = Path(\"pretrained_models/synthesizer/saved_models/pretrained/pretrained.pt\")\n",
        "encoder.load_model(encoder_weights)\n",
        "synthesizer = Synthesizer(syn_dir)\n",
        "vocoder.load_model(vocoder_weights)\n",
        "#synthesizing audio\n",
        "from IPython.display import clear_output\n",
        "clear_output()\n",
        "\n",
        "def readText(text):\n",
        "  with io.capture_output() as captured:\n",
        "    specs = synthesizer.synthesize_spectrograms([text], [embed])\n",
        "  generated_wav = vocoder.infer_waveform(specs[0])\n",
        "  generated_wav = np.pad(generated_wav, (0, synthesizer.sample_rate), mode=\"constant\")\n",
        "  generated_wav = encoder.preprocess_wav(generated_wav)\n",
        "  return [generated_wav, synthesizer.sample_rate]\n",
        "# option = \"Default-Elon Musk\" #@param [\"Default-Elon Musk\", \"Upload\"]\n",
        "# #filename = \"elon audio.wav\" #@param {type: \"string\"}\n",
        "# if option==\"Default-Elon Musk\":\n",
        "#   in_fpath = Path(\"pretrained_models/elon audio.wav\")\n",
        "# else:\n",
        "#   from google.colab import files\n",
        "#   uploaded = files.upload()\n",
        "#   filepath = next(iter(uploaded))\n",
        "#   in_fpath = Path(filepath)\n",
        "\n",
        "# reprocessed_wav = encoder.preprocess_wav(in_fpath)\n",
        "# original_wav, sampling_rate = librosa.load(in_fpath)\n",
        "# preprocessed_wav = encoder.preprocess_wav(original_wav, sampling_rate)\n",
        "# embed = encoder.embed_utterance(preprocessed_wav)"
      ],
      "execution_count": null,
      "outputs": []
    },
    {
      "cell_type": "code",
      "source": [
        "Cloning_Source = \"Upload\" #@param [\"Default-Elon Musk\", \"Upload\"]\n",
        "\n",
        "if Cloning_Source==\"Default-Elon Musk\":\n",
        "  in_fpath = Path(\"pretrained_models/elon audio.wav\")\n",
        "else:\n",
        "  from google.colab import files\n",
        "  uploaded = files.upload()\n",
        "  filepath = next(iter(uploaded))\n",
        "  in_fpath = Path(filepath)\n",
        "\n",
        "reprocessed_wav = encoder.preprocess_wav(in_fpath)\n",
        "original_wav, sampling_rate = librosa.load(in_fpath)\n",
        "preprocessed_wav = encoder.preprocess_wav(original_wav, sampling_rate)\n",
        "embed = encoder.embed_utterance(preprocessed_wav)\n",
        "\n",
        "print(\"Upload Audio Book\")\n",
        "uploaded_book = files.upload()\n",
        "filepath = next(iter(uploaded_book))\n",
        "bookPath = Path(filepath)\n",
        "path = open(bookPath, 'rb')\n",
        "pdfReader = PyPDF2.PdfFileReader(path)\n",
        "totalPages = pdfReader.numPages\n",
        "clear_output()\n"
      ],
      "metadata": {
        "id": "Qg2iXxn1Gs17",
        "cellView": "form"
      },
      "execution_count": null,
      "outputs": []
    },
    {
      "cell_type": "code",
      "source": [
        "Pages_to_Read = \"Custom\" #@param [\"All\", \"Custom\"]\n",
        "if Pages_to_Read==\"Custom\":\n",
        "  from_page_number = 14 #@param {type:\"integer\"}\n",
        "  to_page_number = 14 #@param {type:\"integer\"}\n",
        "error = 0\n",
        "if Pages_to_Read==\"All\":\n",
        "  from_page_number = 0\n",
        "  to_page_number = totalPages-1\n",
        "\n",
        "if to_page_number > totalPages-1:\n",
        "  print(\"Error: You are selecting pages that don't exist in the PDF\")\n",
        "  error = 1\n",
        "if from_page_number<0:\n",
        "  print(\"Error: There are no negative page numbers\")\n",
        "  error = 1\n",
        "if from_page_number>to_page_number:\n",
        "  print(\"Please select from_page_number less than to_page_number\")\n",
        "  error = 1\n",
        "\n",
        "import soundfile\n",
        "init = 0\n",
        "text = \"\"\n",
        "if error ==0:\n",
        "  for page in range(from_page_number, to_page_number+1):\n",
        "    from_page = pdfReader.getPage(page)\n",
        "    text = from_page.extractText()\n",
        "    lines = text.split('\\n')\n",
        "    for line in lines:\n",
        "      generated_wav, rate = readText(line)\n",
        "      # display(Audio(generated_wav, rate=synthesizer.sample_rate))\n",
        "      if init==0:\n",
        "        init = 1\n",
        "        # data, rate = soundfile.read('testing.wav')\n",
        "        soundfile.write('generated_audio.wav', generated_wav, rate)\n",
        "        # soundfile.SoundFile.close()\n",
        "\n",
        "      else:\n",
        "        with soundfile.SoundFile('generated_audio.wav', 'r+') as wfile:\n",
        "            wfile.seek(0,soundfile.SEEK_END)\n",
        "            wfile.write(generated_wav)\n",
        "    # print(lines[:2])\n",
        "  # readText(text)\n",
        "\n",
        "  # print(text)\n"
      ],
      "metadata": {
        "id": "PGpkeDXK8epE",
        "cellView": "form"
      },
      "execution_count": null,
      "outputs": []
    }
  ]
}